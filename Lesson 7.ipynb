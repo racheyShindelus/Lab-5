{
 "cells": [
  {
   "cell_type": "markdown",
   "metadata": {},
   "source": [
    "# Lambda Functions\n",
    "Last week you were introduced to lambda functions. Let's practice them.\n",
    "\n",
    "Recall that a lambda function is an anonymous function: it takes one or more parameters, does a computation, and returns a result. The two primary differences between lambda functions and regular functions are:\n",
    "\n",
    "* Lambdas have no name. They consist of only inputs, a body, and a return value.\n",
    "* Lambda function bodies are limited to a single expression.\n",
    "\n",
    "Here is a lambda function that determines if its input, *x* is odd. When you execute this cell, you'll get back a cryptic output telling you that it generated a lambda function with one input: *x*."
   ]
  },
  {
   "cell_type": "code",
   "execution_count": null,
   "metadata": {},
   "outputs": [],
   "source": [
    "lambda x : x % 2 == 1"
   ]
  },
  {
   "cell_type": "markdown",
   "metadata": {},
   "source": [
    "Here is another lambda function that returns the cube of its input:"
   ]
  },
  {
   "cell_type": "code",
   "execution_count": null,
   "metadata": {},
   "outputs": [],
   "source": [
    "lambda n : n ** 3"
   ]
  },
  {
   "cell_type": "markdown",
   "metadata": {},
   "source": [
    "Lambdas are useful as function factories. Use them to define functions that generate new functions based on its inputs.\n",
    "\n",
    "For example, here is a function that determines if a number, *n*, is between 20 and 50 (inclusive)."
   ]
  },
  {
   "cell_type": "code",
   "execution_count": null,
   "metadata": {},
   "outputs": [],
   "source": [
    "def isBetween20_50(n):\n",
    "    return n >= 20 and n <= 50"
   ]
  },
  {
   "cell_type": "code",
   "execution_count": null,
   "metadata": {},
   "outputs": [],
   "source": [
    "# Is 45 between 20 and 50?\n",
    "isBetween20_50(45)"
   ]
  },
  {
   "cell_type": "code",
   "execution_count": null,
   "metadata": {},
   "outputs": [],
   "source": [
    "# Is 99 between 20 and 50?\n",
    "isBetween20_50(99)"
   ]
  },
  {
   "cell_type": "markdown",
   "metadata": {},
   "source": [
    "And here is one that determines if *n* is between 90 and 100:"
   ]
  },
  {
   "cell_type": "code",
   "execution_count": null,
   "metadata": {},
   "outputs": [],
   "source": [
    "def isBetween90_100(n):\n",
    "    return n >= 90 and n <= 100"
   ]
  },
  {
   "cell_type": "code",
   "execution_count": null,
   "metadata": {},
   "outputs": [],
   "source": [
    "# Is 99 between 90 and 100?\n",
    "isBetween90_100(99)"
   ]
  },
  {
   "cell_type": "markdown",
   "metadata": {},
   "source": [
    "Study the two functions and notice that the only thing that is changing in the bodies of the functions are the upper and lower limits. The computation is otherwise identical. We'll turn those limits into variables to create a function factory that generates new functions using the given limits."
   ]
  },
  {
   "cell_type": "code",
   "execution_count": null,
   "metadata": {},
   "outputs": [],
   "source": [
    "def isBetween(min, max):\n",
    "    return lambda n : n >= min and n <= max"
   ]
  },
  {
   "cell_type": "markdown",
   "metadata": {},
   "source": [
    "Now try it out. When you run the cell below, you'll get a cryptic output telling you that it returned a lambda function with one input: *n*."
   ]
  },
  {
   "cell_type": "code",
   "execution_count": null,
   "metadata": {},
   "outputs": [],
   "source": [
    "isBetween(13, 19)"
   ]
  },
  {
   "cell_type": "markdown",
   "metadata": {},
   "source": [
    "We can make use of the lambda function by binding it to a name, then invoking the function as usual. Below we'll use the `isBetween` factory to generate a function that determines if the given age falls into the teenage years of 13-19."
   ]
  },
  {
   "cell_type": "code",
   "execution_count": null,
   "metadata": {},
   "outputs": [],
   "source": [
    "isTeenage = isBetween(13, 19)\n",
    "\n",
    "isTeenage(15)"
   ]
  },
  {
   "cell_type": "markdown",
   "metadata": {},
   "source": [
    "## Problem 1\n",
    "Create a function called `isBoomer` that determines if a person is a \"baby boomer.\" That is, they were born between 1946 and 1964. Use the `isBetween` function factory to do this."
   ]
  },
  {
   "cell_type": "code",
   "execution_count": null,
   "metadata": {},
   "outputs": [],
   "source": [
    "# Write your solution here\n"
   ]
  },
  {
   "cell_type": "code",
   "execution_count": null,
   "metadata": {},
   "outputs": [],
   "source": [
    "# Run this cell to check your solution\n",
    "assert isBoomer(1950) == True\n",
    "assert isBoomer(1946) == True\n",
    "assert isBoomer(1965) == False\n",
    "assert isBoomer(1940) == False"
   ]
  },
  {
   "cell_type": "markdown",
   "metadata": {},
   "source": [
    "## Problem 2\n",
    "A few weeks ago you learned about the Boolean logic operations: AND, OR, NOT, XOR, and so forth. The operate on Boolean values: true and false (or 1 and 0).\n",
    "\n",
    "The *bitwise operators* are the familiar AND, OR, NOT, etc., but they work on numbers. For example, the bitwise exclusive-or operation applies the Boolean XOR operator to corresponding bit positions in its two operands. Study the table shown here, which shows the bitwise XOR applied to 87 and 142. Each column is a separate XOR operation between the top bit and the bottom bit.\n",
    "\n",
    "operand | | | | | | | | |\n",
    "--------|-|-|-|-|-|-|-|-|\n",
    "87 = | 0 | 1 | 0 | 1 | 0 | 1 | 1 | 1 |\n",
    "142 = | 1 | 0 | 0 | 0 | 1 | 1 | 1 | 0 |\n",
    "-----|-|-|-|-|-|-|-|-|-|\n",
    "XOR | 1 | 1 | 0 | 1 | 1 | 0 | 0 | 1 |\n",
    "\n",
    "The bitwise XOR operator is represented in Python (and C and Java) using the carat `^` symbol."
   ]
  },
  {
   "cell_type": "code",
   "execution_count": null,
   "metadata": {},
   "outputs": [],
   "source": [
    "87 ^ 142"
   ]
  },
  {
   "cell_type": "markdown",
   "metadata": {},
   "source": [
    "Use the `bin` function to convert this number to binary and compare it to the table above."
   ]
  },
  {
   "cell_type": "code",
   "execution_count": null,
   "metadata": {},
   "outputs": [],
   "source": [
    "bin(87 ^ 142)"
   ]
  },
  {
   "cell_type": "markdown",
   "metadata": {},
   "source": [
    "Write two functions in the cell below. One called `xor37` that applies XOR 37 to its input, `x`. The other function is called `xor255` that applies XOR 255 to its input."
   ]
  },
  {
   "cell_type": "code",
   "execution_count": null,
   "metadata": {},
   "outputs": [],
   "source": [
    "# Write your functions here. They have been started for you.\n",
    "def xor37(x):\n",
    "    \n",
    "\n",
    "def xor255(x):\n",
    "    "
   ]
  },
  {
   "cell_type": "code",
   "execution_count": null,
   "metadata": {},
   "outputs": [],
   "source": [
    "# Run this cell to check your function\n",
    "assert xor37(100) == 65\n",
    "assert xor37(0) == 37\n",
    "assert xor37(127) == 90\n",
    "\n",
    "assert xor255(100) == 155\n",
    "assert xor255(55) == 200\n",
    "assert xor255(0) == 255"
   ]
  },
  {
   "cell_type": "markdown",
   "metadata": {},
   "source": [
    "Generalize your functions by construction a function factory. Write a function called `xorWith` that accepts an input `b` and returns a lambda function. The lambda function itself accepts an input, `x` which applies the XOR operation to `x` and `b`."
   ]
  },
  {
   "cell_type": "code",
   "execution_count": null,
   "metadata": {},
   "outputs": [],
   "source": [
    "def xorWith(b):\n",
    "    "
   ]
  },
  {
   "cell_type": "code",
   "execution_count": null,
   "metadata": {},
   "outputs": [],
   "source": [
    "# Run this cell to check your function\n",
    "xor25 = xorWith(25)\n",
    "assert xor25(100) == 125\n",
    "assert xor25(37) == 60\n",
    "assert xor25(255) == 230"
   ]
  },
  {
   "cell_type": "markdown",
   "metadata": {},
   "source": [
    "# Generating coprimes using GCD\n",
    "We now turn our attention back to the GCD function. Before we get started, let's define our Euclidean GCD function from Lesson 5 along with importing the `csci26` library."
   ]
  },
  {
   "cell_type": "code",
   "execution_count": null,
   "metadata": {},
   "outputs": [],
   "source": [
    "from csci26 import *\n",
    "\n",
    "def gcd(a, b):\n",
    "    if b == 0:\n",
    "        return a\n",
    "    else:\n",
    "        return gcd(b, a % b)"
   ]
  },
  {
   "cell_type": "markdown",
   "metadata": {},
   "source": [
    "You can use the `gcd` function to determine if two numbers are coprime. If the greatest common divisor is 1, the two numbers share no common factors other than 1, and are therefore coprime. If this sounds familiar, it should: we wrote a function to determine if two numbers are coprime in Lesson 5. This time, however, we'll take it to the next level using lambdas.\n",
    "\n",
    "Below we create two functions, `isCoprimeWith15` and `isCoprimeWith36` that returns a Boolean: true if the given number, *i*, is coprime with 15 or 36, respectively.\n",
    "\n",
    "Combine these functions with `filter` to construct lists of coprime numbers."
   ]
  },
  {
   "cell_type": "code",
   "execution_count": null,
   "metadata": {},
   "outputs": [],
   "source": [
    "def isCoprimeWith15(i):\n",
    "    return gcd(i, 15) == 1\n",
    "\n",
    "# Numbers that are coprime with 15\n",
    "filter(isCoprimeWith15, range(1, 15))"
   ]
  },
  {
   "cell_type": "code",
   "execution_count": null,
   "metadata": {},
   "outputs": [],
   "source": [
    "def isCoprimeWith36(i):\n",
    "    return gcd(i, 36) == 1\n",
    "\n",
    "# Numbers that are coprime with 36\n",
    "filter(isCoprimeWith36, range(1, 36))"
   ]
  },
  {
   "cell_type": "markdown",
   "metadata": {},
   "source": [
    "## Problem 3\n",
    "Using the lambda technique, we can generalize the two above functions to make, essentially, a `isCoprimeWithX` function. Study the `isCoprimeWith15` and `isCoprimeWith36` functions. Notice what is changing and what is staying the same. Turn the part that is changing into a variable."
   ]
  },
  {
   "cell_type": "code",
   "execution_count": null,
   "metadata": {},
   "outputs": [],
   "source": [
    "# Replace \"None\" with an appropriate expression that determines if x and i are coprime\n",
    "def isCoprimeWith(x):\n",
    "    return lambda i : None"
   ]
  },
  {
   "cell_type": "code",
   "execution_count": null,
   "metadata": {},
   "outputs": [],
   "source": [
    "# Run this cell to check your solution\n",
    "isCoprimeWith10 = isCoprimeWith(10)\n",
    "assert isCoprimeWith10(3) == True\n",
    "assert isCoprimeWith10(5) == False\n",
    "assert isCoprimeWith10(2) == False\n",
    "assert isCoprimeWith10(9) == True\n",
    "\n",
    "isCoprimeWith12 = isCoprimeWith(12)\n",
    "assert isCoprimeWith12(4) == False\n",
    "assert isCoprimeWith12(7) == True\n",
    "assert isCoprimeWith12(10) == False"
   ]
  },
  {
   "cell_type": "markdown",
   "metadata": {},
   "source": [
    "## Problem 4\n",
    "Write a function named `coprimesOf` that takes an integer (*n*) and returns a list of integers in the range \\[1,*n*) that are coprime with *n*. Make use of the `isCoprimeWith` function you defined above and `filter`."
   ]
  },
  {
   "cell_type": "code",
   "execution_count": null,
   "metadata": {},
   "outputs": [],
   "source": [
    "# Write your solution here\n"
   ]
  },
  {
   "cell_type": "code",
   "execution_count": null,
   "metadata": {},
   "outputs": [],
   "source": [
    "# Run this cell to check your solution\n",
    "assert coprimesOf(20) == [1, 3, 7, 9, 11, 13, 17, 19]\n",
    "assert coprimesOf(1) == []\n",
    "assert coprimesOf(19) == [1, 2, 3, 4, 5, 6, 7, 8, 9, 10, 11, 12, 13, 14, 15, 16, 17, 18]\n",
    "assert coprimesOf(27) == [1, 2, 4, 5, 7, 8, 10, 11, 13, 14, 16, 17, 19, 20, 22, 23, 25, 26]\n",
    "assert coprimesOf(31) == [1, 2, 3, 4, 5, 6, 7, 8, 9, 10, 11, 12, 13, 14, 15, 16, 17, 18, 19, 20, 21, 22, 23, 24, 25, 26, 27, 28, 29, 30]"
   ]
  },
  {
   "cell_type": "markdown",
   "metadata": {},
   "source": [
    "## Problem 5\n",
    "Write a function named **totient** that takes an integer (*n*) and returns the number of integers in the range \\[1,*n*) that are coprime with *n*.\n",
    "\n",
    "*Hint:* the *len* function will return the length of a list.\n",
    "\n",
    "*Another hint:* We already have a function that calculates a list of numbers that are coprime with a given number."
   ]
  },
  {
   "cell_type": "code",
   "execution_count": null,
   "metadata": {},
   "outputs": [],
   "source": [
    "# Write your solution here\n"
   ]
  },
  {
   "cell_type": "code",
   "execution_count": null,
   "metadata": {},
   "outputs": [],
   "source": [
    "# Run this cell to check your solution\n",
    "assert totient(20) == 8\n",
    "assert totient(99) == 60\n",
    "assert totient(19) == 18"
   ]
  }
 ],
 "metadata": {
  "kernelspec": {
   "display_name": "Python 3 (ipykernel)",
   "language": "python",
   "name": "python3"
  },
  "language_info": {
   "codemirror_mode": {
    "name": "ipython",
    "version": 3
   },
   "file_extension": ".py",
   "mimetype": "text/x-python",
   "name": "python",
   "nbconvert_exporter": "python",
   "pygments_lexer": "ipython3",
   "version": "3.9.7"
  }
 },
 "nbformat": 4,
 "nbformat_minor": 4
}
