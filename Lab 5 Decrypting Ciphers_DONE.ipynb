{
 "cells": [
  {
   "cell_type": "markdown",
   "metadata": {},
   "source": [
    "# Greatest Common Divisor, Extended Euclidean Algorithm\n",
    "In Lesson 6 you learned about the Euclidean Algorithm for computing the greatest common divisor. And in a recent lecture we learned about the Extended Euclidean Algorithm for computing the more general form of the greatest common divisor: $ax + by = \\gcd(a, b)$.\n",
    "\n",
    "The solution to this equation is a pair (a tuple) of integers (*x*, *y*).\n",
    "\n",
    "Here is a recursive definition by parts of the Extended Euclidean Algorithm, which I will call **egcd**:\n",
    "\n",
    "$$\n",
    "\\text{egcd}(a, b) =\n",
    "\\begin{cases}\n",
    "(1, 0) & \\text{if $b = 0$}, \\\\\n",
    "(t, s - q \\cdot t) & \\text{otherwise, where} \\\\\n",
    "& q = a \\div b & \\text{q is the integer quotient} \\\\\n",
    "& (s, t) = \\text{egcd}(b, a \\bmod b)\n",
    "\\end{cases}\n",
    "$$\n",
    "\n",
    "Let's turn this into a Python function. I've given you some hints in the comments below."
   ]
  },
  {
   "cell_type": "code",
   "execution_count": 2,
   "metadata": {},
   "outputs": [],
   "source": [
    "def egcd(a, b):\n",
    "    if b == 0:\n",
    "        return (1, 0)\n",
    "    else:\n",
    "        # Calculate q, the quotient, using integer division\n",
    "        q = a // b        \n",
    "        # Calculate (s, t) by calling egcd(b, a mod b)\n",
    "        s, t = egcd(b, a % b)        \n",
    "        # Return (t, s - q * t)\n",
    "        return (t, s - q * t)"
   ]
  },
  {
   "cell_type": "code",
   "execution_count": 3,
   "metadata": {},
   "outputs": [],
   "source": [
    "# Run this cell to check your egcd function\n",
    "assert egcd(5, 37) == (15, -2)\n",
    "assert egcd(81, 256) == (-79, 25)"
   ]
  },
  {
   "cell_type": "markdown",
   "metadata": {},
   "source": [
    "## Multiplicative Inverse\n",
    "To be able to decrypt a linear cipher, we need to solve the following equation for *p*:\n",
    "\n",
    "$$c = p \\cdot m + k \\quad \\pmod{n}$$\n",
    "\n",
    "After a little algebraic manipulation, we get\n",
    "\n",
    "$$p = \\frac{c - k}{m} \\quad \\pmod{n}$$\n",
    "\n",
    "But dividing by *m* would result in a fraction. Instead of dividing, we can multiply by the multiplicative inverse of *m* (mod *n*). Recall that $m^{-1} (\\text{mod } n)$ is the nomenclature for the multiplicative inverse of *m* mod *n*. We rewrite the equation as:\n",
    "\n",
    "$$p = (c - k)m^{-1} \\quad \\pmod{n}$$\n",
    "\n",
    "To compute the multiplicative inverse, we'll use the Extended Euclidean Algorithm! Recall that it returns the (*x*, *y*) solution to $ax + by = \\gcd(a, b)$. It turns out that *x* is the multiplicative inverse of *a* mod *b*.\n",
    "\n",
    "Therefore, if we call egcd(*m*, *n*) and get back the tuple (*x*, *y*), the multiplicative inverse is just the *x* value.\n",
    "\n",
    "Sometimes you get back a negative value for *x*; that's okay, but a positive integer would be better. To convert it to the congruent positive modular value, just do a final *mod n*. For example, if we were trying to compute the multiplicative inverse of 5 mod 37 and we got back &ndash;22, we could just calculate &ndash;22 mod 37 and return the desired value, 15, to the caller.\n",
    "\n",
    "To write the Python function, simply call egcd(*a*, *n*), obtain the first element of the tuple that you get back, do a final *mod n* on it and return the result.\n",
    "\n",
    "With that working, we will be ready to decrypt the linear cipher!"
   ]
  },
  {
   "cell_type": "markdown",
   "metadata": {},
   "source": [
    "## Problem 1\n",
    "Write the `multinv` function. It takes two numbers, *a* and *n*, and returns the multiplicative inverse of $a \\bmod n$. There are comments in the function below to help you."
   ]
  },
  {
   "cell_type": "code",
   "execution_count": 4,
   "metadata": {},
   "outputs": [],
   "source": [
    "def multinv(a, n):\n",
    "    # Call egcd(a, n) and get back a pair of integers (x, y)\n",
    "    x, y = egcd(a, n)    \n",
    "    # Return the first element (the x value), modulo n\n",
    "    return x % n if x >= 0 else (x % n + n) % n"
   ]
  },
  {
   "cell_type": "code",
   "execution_count": 5,
   "metadata": {},
   "outputs": [],
   "source": [
    "# Run this cell to check your multinv function\n",
    "assert multinv(18, 47) == 34\n",
    "assert multinv(81, 256) == 177\n",
    "assert multinv(5, 37) == 15"
   ]
  },
  {
   "cell_type": "code",
   "execution_count": 6,
   "metadata": {},
   "outputs": [
    {
     "data": {
      "text/plain": [
       "177"
      ]
     },
     "execution_count": 6,
     "metadata": {},
     "output_type": "execute_result"
    }
   ],
   "source": [
    "# Try it out! This should return 177\n",
    "multinv(81, 256)"
   ]
  },
  {
   "cell_type": "code",
   "execution_count": 7,
   "metadata": {},
   "outputs": [
    {
     "data": {
      "text/plain": [
       "1"
      ]
     },
     "execution_count": 7,
     "metadata": {},
     "output_type": "execute_result"
    }
   ],
   "source": [
    "# Verify 81*177 mod 256. This should return 1\n",
    "81 * multinv(81, 256) % 256"
   ]
  },
  {
   "cell_type": "markdown",
   "metadata": {},
   "source": [
    "# Decrypting the Linear Cipher\n",
    "The functions you'll write below are similar to the ones you wrote for Lab 4, except they decrypt instead of encrypt. You may want to open up that notebook and refer to them.\n",
    "\n",
    "If all this seems daunting to you, relax. You have the pieces you need to write the functions; you just have to put them together. An essential aspect of problem-solving is taking inventory of what you already know and what you have available to use.\n",
    "\n",
    "* You've learned about lists and applying functions to elements of a list using `map`.\n",
    "* You know about byte strings: special arrays of integers that appear on-screen kind of like strings.\n",
    "* You know that byte strings can be accessed like lists; you can loop across them. Python's `map` makes this very easy.\n",
    "* You have a working function for calculating the mutiplicative inverse of an integer.\n",
    "\n",
    "These are all the pieces you need to finish the programs. None of the functions below are more than one or two lines of code.\n",
    "\n",
    "## Problem 2\n",
    "Write a function called **decrypt** that accepts three numbers (*c*, *m*, and *k*) and returns the corresponding plaintext (*p*) value as a number. You can assume the modulus (*n*) is 256. You will need to compute the multiplicative inverse of $m \\bmod 256$ to decipher *c*; use your `multinv` function to help you.\n",
    "\n",
    "The formula for calculating the plaintext is:\n",
    "\n",
    "$$ p = (c - k)m^{-1} \\pmod{n} $$\n",
    "\n",
    "where $m^{-1}$ is the multiplicative inverse of $m \\bmod n$ and $n$ is 256."
   ]
  },
  {
   "cell_type": "code",
   "execution_count": 18,
   "metadata": {},
   "outputs": [],
   "source": [
    "def decrypt(c, m, k):\n",
    "    m_inv = multinv(m, 256)\n",
    "    p = (c - k) * m_inv % 256 \n",
    "    return p\n"
   ]
  },
  {
   "cell_type": "code",
   "execution_count": 19,
   "metadata": {},
   "outputs": [],
   "source": [
    "# Run this cell to check your decrypt function\n",
    "assert decrypt(80, 5, 11) == 65\n",
    "assert decrypt(61, 5, 11) == 10"
   ]
  },
  {
   "cell_type": "markdown",
   "metadata": {},
   "source": [
    "## Problem 3\n",
    "Write a function called **linearDecipher** that accepts a multiplier (*m*), a shift amount (*k*), and the *ciphertext*. It returns the decrypted byte string.\n",
    "\n",
    "In Problem 2 you wrote a function that decrypts a single value. Use what you learned from it to help write this function. The `map` function will come in handy.\n",
    "\n",
    "You will also need to use the lambda technique to write a helper function. This function should take in the *multiplier* and *offset* and return an anonymous function (lambda). This new function should take one input, the *character* to decyrpt, and decrypt it using the given mulitiplier, offset, and multiplicative inverse function."
   ]
  },
  {
   "cell_type": "code",
   "execution_count": 25,
   "metadata": {},
   "outputs": [],
   "source": [
    "# Import csci26 library\n",
    "from csci26 import *\n",
    "\n",
    "# Write your function definitions here\n",
    "def linearDecipherPartial(m, k):\n",
    "    inv = multinv(m, 256)\n",
    "    return lambda x: (x - k) * inv % 256\n",
    "\n",
    "def linearDecipher(m, k, ciphertext):\n",
    "    decrypt_func = linearDecipherPartial(m, k)\n",
    "    plaintext_bytes = list(map(decrypt_func, ciphertext))\n",
    "    plaintext = bytes(plaintext_bytes)    \n",
    "    return plaintext"
   ]
  },
  {
   "cell_type": "code",
   "execution_count": 26,
   "metadata": {},
   "outputs": [],
   "source": [
    "# Run this cell to check your function\n",
    "assert linearDecipher(5, 11, b\"s\\x04''6\\xab\\xaa\\x18\\x04EE\\xf0\") == b'Hello Sierra'\n",
    "assert linearDecipher(13, 50, b'AB') == b'\\x8bP'"
   ]
  },
  {
   "cell_type": "code",
   "execution_count": 27,
   "metadata": {},
   "outputs": [
    {
     "data": {
      "text/plain": [
       "b'Congratulations!'"
      ]
     },
     "execution_count": 27,
     "metadata": {},
     "output_type": "execute_result"
    }
   ],
   "source": [
    "# Try it yourself!\n",
    "linearDecipher(49, 100, b'7\\xa3r\\x1b6\\xf5\\x98\\xc9\\x10\\xf5\\x98}\\xa3rg\\xb5')"
   ]
  }
 ],
 "metadata": {
  "kernelspec": {
   "display_name": "Python 3 (ipykernel)",
   "language": "python",
   "name": "python3"
  },
  "language_info": {
   "codemirror_mode": {
    "name": "ipython",
    "version": 3
   },
   "file_extension": ".py",
   "mimetype": "text/x-python",
   "name": "python",
   "nbconvert_exporter": "python",
   "pygments_lexer": "ipython3",
   "version": "3.9.7"
  }
 },
 "nbformat": 4,
 "nbformat_minor": 4
}
