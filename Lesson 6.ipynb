{
 "cells": [
  {
   "cell_type": "markdown",
   "metadata": {},
   "source": [
    "# Filtering lists\n",
    "By now we've become familiar with the `map` function. Let's learn about a new list transformation function called `filter`. This function is used to keep or remove elements of a list based on a condition. Python has a built-in `filter` function, but I've written a version that is easier to use than the built-in one. You'll get it from the `csci26` library.\n",
    "\n",
    "Let's construct a list of the integers from 0 to 99 that are multiples of 7. We'll start with the list of all integers from 0 to 99, then use `filter` to keep only those that are multiples of 7. First we need a function that returns `True` if its input is a multiple of 7."
   ]
  },
  {
   "cell_type": "code",
   "execution_count": null,
   "metadata": {},
   "outputs": [],
   "source": [
    "# Import csci26 library. This needs to be done only once per notebook.\n",
    "from csci26 import *\n",
    "\n",
    "def isMultipleOf7(n):\n",
    "    if n % 7 == 0:\n",
    "        return True\n",
    "    else:\n",
    "        return False"
   ]
  },
  {
   "cell_type": "markdown",
   "metadata": {},
   "source": [
    "Then we'll use `filter` to apply this function to the list of integers from 0 to 99."
   ]
  },
  {
   "cell_type": "code",
   "execution_count": null,
   "metadata": {},
   "outputs": [],
   "source": [
    "filter(isMultipleOf7, range(0, 100))"
   ]
  },
  {
   "cell_type": "markdown",
   "metadata": {},
   "source": [
    "As you can see, the `filter` function's syntax is very much like `map` except the function must return a Boolean value (`True` or `False`). Like `map`, a new list is created leaving the original one untouched.\n",
    "\n",
    "The filtering function is applied to each element of the list. If the function returns `True`, the element is copied over to the new list; if the function returns `False`, the element is ignored.\n",
    "\n",
    "By the way, we can shorted the `isMultipleOf7` function by noting that the Boolean value we return (`True` or `False`) are exactly the value the condition evaluates to. Here is the same list of multiples of 7, but with the more compact function. It should produce the same list."
   ]
  },
  {
   "cell_type": "code",
   "execution_count": null,
   "metadata": {},
   "outputs": [],
   "source": [
    "def isMultipleOf7(n):\n",
    "    return n % 7 == 0\n",
    "\n",
    "filter(isMultipleOf7, range(1, 100))\n",
    "\n",
    "# Produces the same list as before"
   ]
  },
  {
   "cell_type": "markdown",
   "metadata": {},
   "source": [
    "Let's look at another example. We would like to produce a list of the squares of the odd integers between 1 and 19. First, filter the numbers from 1 to 19, leaving only the odds."
   ]
  },
  {
   "cell_type": "code",
   "execution_count": null,
   "metadata": {},
   "outputs": [],
   "source": [
    "def isOdd(n):\n",
    "    return n % 2 == 1\n",
    "\n",
    "odds = filter(isOdd, range(1, 20))\n",
    "\n",
    "odds"
   ]
  },
  {
   "cell_type": "markdown",
   "metadata": {},
   "source": [
    "Did you see how that worked? Rather than trying to produce a list of odd numbers from scratch, start with a list that includes *all integers in the range* and filter out the ones you don't need.\n",
    "\n",
    "Next, use `map` to transform this list into a list of square numbers."
   ]
  },
  {
   "cell_type": "code",
   "execution_count": null,
   "metadata": {},
   "outputs": [],
   "source": [
    "def square(n):\n",
    "    return n**2\n",
    "\n",
    "map(square, odds)\n",
    "\n",
    "# Produces the list [1, 9, 25, 49, ..., 361]"
   ]
  },
  {
   "cell_type": "markdown",
   "metadata": {},
   "source": [
    "## Problem 2\n",
    "Use `filter` to construct a list of the primes between 2 and 47 whose last digit is 3. Assign this list to the `primes3` variable. You can use the list of the first 15 primes as a starting point.\n",
    "\n",
    "You'll need to write a function that returns whether the last digit of a number is 3. Then use it to filter the `primes` list."
   ]
  },
  {
   "cell_type": "code",
   "execution_count": null,
   "metadata": {},
   "outputs": [],
   "source": [
    "primes = [2, 3, 5, 7, 11, 13, 17, 19, 23, 29, 31, 37, 41, 43, 47]\n",
    "\n",
    "# Write your solution here\n",
    "\n",
    "\n",
    "primes3 = None"
   ]
  },
  {
   "cell_type": "code",
   "execution_count": null,
   "metadata": {},
   "outputs": [],
   "source": [
    "# Run this cell to check your answer\n",
    "assert primes3 == [3, 13, 23, 43]"
   ]
  },
  {
   "cell_type": "markdown",
   "metadata": {},
   "source": [
    "## Problem 3\n",
    "Assign to the **short_states** variable a list of the states whose name is 6 or fewer letters. You can use the `states` list as a starting point. The built-in `len` function can be used to determine the length of a string."
   ]
  },
  {
   "cell_type": "code",
   "execution_count": null,
   "metadata": {},
   "outputs": [],
   "source": [
    "states = ['California', 'Oregon', 'Nevada', 'Utah', 'Arizona', 'Washington']\n",
    "\n",
    "# Write your solution here\n",
    "\n",
    "\n",
    "short_states = None"
   ]
  },
  {
   "cell_type": "code",
   "execution_count": null,
   "metadata": {},
   "outputs": [],
   "source": [
    "# Run this cell to check your answer\n",
    "assert short_states == ['Oregon', 'Nevada', 'Utah']"
   ]
  },
  {
   "cell_type": "markdown",
   "metadata": {},
   "source": [
    "# Tuples\n",
    "Pronounced *tuh-pull* or *too-pull*, a tuple is kind of like a fixed-size array. They are typically used to group related data such as (x, y), (make, model, year), and (last name, first name). As shown here, tuples are surrounded by parentheses and the elements are separated by commas. Unlike arrays, tuples are *immutable*; their values cannot be changed once created. Instead, you have to create a new tuple to replace an existing one. But we probably will never run into this situation.\n",
    "\n",
    "Here are some examples of tuples."
   ]
  },
  {
   "cell_type": "code",
   "execution_count": null,
   "metadata": {},
   "outputs": [],
   "source": [
    "(3, 4)"
   ]
  },
  {
   "cell_type": "code",
   "execution_count": null,
   "metadata": {},
   "outputs": [],
   "source": [
    "(\"Toyota\", \"Camry\", 2015) "
   ]
  },
  {
   "cell_type": "code",
   "execution_count": null,
   "metadata": {},
   "outputs": [],
   "source": [
    "(\"Bond\", \"James\")"
   ]
  },
  {
   "cell_type": "markdown",
   "metadata": {},
   "source": [
    "## Returning tuples from functions\n",
    "\n",
    "Like strings and arrays, tuples are just another datatype in Python. They can be assigned to variables and returned from functions. Tuples are a very useful way to return multiple values from a function.\n",
    "\n",
    "Remember the quadratic formula? To refresh your memory:\n",
    "\n",
    "$$ x = \\frac{-b \\pm \\sqrt{b^2 - 4ac}}{2a} $$\n",
    "\n",
    "The quadratic formula has two solutions. The function below calculates both and returns them in a tuple.\n",
    "\n",
    "By the way, if you try the function with some of your favorite coefficients, you'll find that Python supports complex numbers, except that *j* is used instead of *i*. (Electrical engineers prefer using *j* since *i* is commonly used to represent electric current; this convention was adopted by Python early in its development.)"
   ]
  },
  {
   "cell_type": "code",
   "execution_count": null,
   "metadata": {},
   "outputs": [],
   "source": [
    "# Execute this cell to define a function that returns both solutions\n",
    "def quadratic(a, b, c):\n",
    "    plus  = (-b + (b*b - 4*a*c) ** 0.5) / (2*a)\n",
    "    minus = (-b - (b*b - 4*a*c) ** 0.5) / (2*a)\n",
    "    return (plus, minus)"
   ]
  },
  {
   "cell_type": "code",
   "execution_count": null,
   "metadata": {},
   "outputs": [],
   "source": [
    "quadratic(5, 6, 1)"
   ]
  },
  {
   "cell_type": "code",
   "execution_count": null,
   "metadata": {},
   "outputs": [],
   "source": [
    "quadratic(1, 4, 5)"
   ]
  },
  {
   "cell_type": "markdown",
   "metadata": {},
   "source": [
    "## Assigning tuples to variables\n",
    "A tuple can be assigned to a variable like any other data type."
   ]
  },
  {
   "cell_type": "code",
   "execution_count": null,
   "metadata": {},
   "outputs": [],
   "source": [
    "gps = (38.79, -121.21)"
   ]
  },
  {
   "cell_type": "markdown",
   "metadata": {},
   "source": [
    "You can access the elements of the tuple as if it was an array, using the square brackets:"
   ]
  },
  {
   "cell_type": "code",
   "execution_count": null,
   "metadata": {},
   "outputs": [],
   "source": [
    "gps[0]       # Yields 38.79"
   ]
  },
  {
   "cell_type": "code",
   "execution_count": null,
   "metadata": {},
   "outputs": [],
   "source": [
    "gps[1]       # Yields -121.21"
   ]
  },
  {
   "cell_type": "markdown",
   "metadata": {},
   "source": [
    "However, this is not nearly as nifty as assigning to a tuple of variables. This will assign the value 38.79 to *lat* and -121.21 to *lon* in one fell swoop. Take a look:"
   ]
  },
  {
   "cell_type": "code",
   "execution_count": null,
   "metadata": {},
   "outputs": [],
   "source": [
    "(lat, lon) = (38.79, -121.21)"
   ]
  },
  {
   "cell_type": "markdown",
   "metadata": {},
   "source": [
    "We can use this technique to obtain both solutions to the quadratic formula in separate variables. In other words, if you have a function that returns a tuple, you can assign its return value to a tuple of variables and get all the values separately. Pretty cool, eh?"
   ]
  },
  {
   "cell_type": "code",
   "execution_count": null,
   "metadata": {},
   "outputs": [],
   "source": [
    "(x1, x2) = quadratic(5, 6, 1)"
   ]
  },
  {
   "cell_type": "code",
   "execution_count": null,
   "metadata": {},
   "outputs": [],
   "source": [
    "x1"
   ]
  },
  {
   "cell_type": "code",
   "execution_count": null,
   "metadata": {},
   "outputs": [],
   "source": [
    "x2"
   ]
  },
  {
   "cell_type": "code",
   "execution_count": null,
   "metadata": {},
   "outputs": [],
   "source": [
    "(x1, x2)"
   ]
  },
  {
   "cell_type": "markdown",
   "metadata": {},
   "source": [
    "## Problem 4\n",
    "Assign the variables **dept**, **num**, **name** to the values **\"CSCI\"**, **26**, and **\"Discrete Structures\"** all at once using a tuple."
   ]
  },
  {
   "cell_type": "code",
   "execution_count": null,
   "metadata": {},
   "outputs": [],
   "source": [
    "# Write your solution here\n"
   ]
  },
  {
   "cell_type": "code",
   "execution_count": null,
   "metadata": {},
   "outputs": [],
   "source": [
    "# Run this cell to check your solution\n",
    "assert dept == \"CSCI\"\n",
    "assert num == 26\n",
    "assert name == \"Discrete Structures\""
   ]
  },
  {
   "cell_type": "markdown",
   "metadata": {},
   "source": [
    "## Problem 5\n",
    "Write a function called **qr** that takes as input a numerator (*n*) and a denominator (*d*). It divides *n* by *d* and returns both the quotient and remainder as integers in a tuple.\n",
    "\n",
    "Use integer division with the `//` operator to calculate the quotient."
   ]
  },
  {
   "cell_type": "code",
   "execution_count": null,
   "metadata": {},
   "outputs": [],
   "source": [
    "# Write your definition of the qr function here\n"
   ]
  },
  {
   "cell_type": "code",
   "execution_count": null,
   "metadata": {},
   "outputs": [],
   "source": [
    "# Run this cell to check your solution\n",
    "assert qr(8, 1) == (8, 0)\n",
    "assert qr(7, 2) == (3, 1)\n",
    "assert qr(2, 7) == (0, 2)\n",
    "assert qr(1, 1) == (1, 0)\n",
    "assert qr(500, 19) == (26, 6)"
   ]
  }
 ],
 "metadata": {
  "kernelspec": {
   "display_name": "Python 3 (ipykernel)",
   "language": "python",
   "name": "python3"
  },
  "language_info": {
   "codemirror_mode": {
    "name": "ipython",
    "version": 3
   },
   "file_extension": ".py",
   "mimetype": "text/x-python",
   "name": "python",
   "nbconvert_exporter": "python",
   "pygments_lexer": "ipython3",
   "version": "3.9.7"
  }
 },
 "nbformat": 4,
 "nbformat_minor": 4
}
